{
  "nbformat": 4,
  "nbformat_minor": 0,
  "metadata": {
    "colab": {
      "provenance": []
    },
    "kernelspec": {
      "name": "python3",
      "display_name": "Python 3"
    },
    "language_info": {
      "name": "python"
    }
  },
  "cells": [
    {
      "cell_type": "markdown",
      "source": [
        "#View - Is used to flatten the matrix\n",
        "\n",
        "memory is contigeous memory"
      ],
      "metadata": {
        "id": "f9vjiYp9hnjX"
      }
    },
    {
      "cell_type": "code",
      "execution_count": 1,
      "metadata": {
        "colab": {
          "base_uri": "https://localhost:8080/"
        },
        "id": "bfwmjtDfhkXR",
        "outputId": "4dbf2197-7090-421d-9cc1-166e053eae8c"
      },
      "outputs": [
        {
          "output_type": "stream",
          "name": "stdout",
          "text": [
            "tensor([[0.1746, 0.8388, 0.3357, 0.5596],\n",
            "        [0.0287, 0.4347, 0.5578, 0.5789],\n",
            "        [0.0442, 0.5140, 0.5987, 0.1369],\n",
            "        [0.0248, 0.7018, 0.6546, 0.7497]])\n",
            "tensor([0.1746, 0.8388, 0.3357, 0.5596, 0.0287, 0.4347, 0.5578, 0.5789, 0.0442,\n",
            "        0.5140, 0.5987, 0.1369, 0.0248, 0.7018, 0.6546, 0.7497])\n",
            "tensor([[0.1746, 0.8388, 0.3357, 0.5596, 0.0287, 0.4347, 0.5578, 0.5789],\n",
            "        [0.0442, 0.5140, 0.5987, 0.1369, 0.0248, 0.7018, 0.6546, 0.7497]])\n"
          ]
        }
      ],
      "source": [
        "import torch\n",
        "\n",
        "tensor_random=torch.rand(4,4)\n",
        "print(tensor_random)\n",
        "\n",
        "print(tensor_random.view(16))\n",
        "print(tensor_random.view(2,8))"
      ]
    },
    {
      "cell_type": "markdown",
      "source": [
        "#Reshape\n",
        "\n",
        "more flexible\n",
        "\n",
        "It uses contigeous memory as well + non contiguous memory"
      ],
      "metadata": {
        "id": "ZYMUs8Bnj7-k"
      }
    },
    {
      "cell_type": "code",
      "source": [
        "#Reshape\n",
        "tensor_random=torch.rand(4,4)\n",
        "print(tensor_random)\n",
        "\n",
        "print(tensor_random.reshape(16))\n",
        "print(tensor_random.reshape(2,8))\n"
      ],
      "metadata": {
        "colab": {
          "base_uri": "https://localhost:8080/"
        },
        "id": "SyLn7MAnh1fx",
        "outputId": "f587a826-56c9-410a-b408-da776071ab7d"
      },
      "execution_count": 2,
      "outputs": [
        {
          "output_type": "stream",
          "name": "stdout",
          "text": [
            "tensor([[0.0506, 0.2251, 0.1787, 0.5126],\n",
            "        [0.5166, 0.9309, 0.1681, 0.3280],\n",
            "        [0.9555, 0.0464, 0.0380, 0.9061],\n",
            "        [0.6459, 0.7228, 0.9981, 0.7870]])\n",
            "tensor([0.0506, 0.2251, 0.1787, 0.5126, 0.5166, 0.9309, 0.1681, 0.3280, 0.9555,\n",
            "        0.0464, 0.0380, 0.9061, 0.6459, 0.7228, 0.9981, 0.7870])\n",
            "tensor([[0.0506, 0.2251, 0.1787, 0.5126, 0.5166, 0.9309, 0.1681, 0.3280],\n",
            "        [0.9555, 0.0464, 0.0380, 0.9061, 0.6459, 0.7228, 0.9981, 0.7870]])\n"
          ]
        }
      ]
    },
    {
      "cell_type": "markdown",
      "source": [
        "#Stack"
      ],
      "metadata": {
        "id": "I1b-dzPamPab"
      }
    },
    {
      "cell_type": "code",
      "source": [
        "random_stack=torch.stack([tensor_random,tensor_random,tensor_random,tensor_random])\n",
        "print(random_stack)"
      ],
      "metadata": {
        "colab": {
          "base_uri": "https://localhost:8080/"
        },
        "id": "2JSHyxj6kAdC",
        "outputId": "775137d0-ad69-4a84-9453-ed6aa5e07876"
      },
      "execution_count": 3,
      "outputs": [
        {
          "output_type": "stream",
          "name": "stdout",
          "text": [
            "tensor([[[0.0506, 0.2251, 0.1787, 0.5126],\n",
            "         [0.5166, 0.9309, 0.1681, 0.3280],\n",
            "         [0.9555, 0.0464, 0.0380, 0.9061],\n",
            "         [0.6459, 0.7228, 0.9981, 0.7870]],\n",
            "\n",
            "        [[0.0506, 0.2251, 0.1787, 0.5126],\n",
            "         [0.5166, 0.9309, 0.1681, 0.3280],\n",
            "         [0.9555, 0.0464, 0.0380, 0.9061],\n",
            "         [0.6459, 0.7228, 0.9981, 0.7870]],\n",
            "\n",
            "        [[0.0506, 0.2251, 0.1787, 0.5126],\n",
            "         [0.5166, 0.9309, 0.1681, 0.3280],\n",
            "         [0.9555, 0.0464, 0.0380, 0.9061],\n",
            "         [0.6459, 0.7228, 0.9981, 0.7870]],\n",
            "\n",
            "        [[0.0506, 0.2251, 0.1787, 0.5126],\n",
            "         [0.5166, 0.9309, 0.1681, 0.3280],\n",
            "         [0.9555, 0.0464, 0.0380, 0.9061],\n",
            "         [0.6459, 0.7228, 0.9981, 0.7870]]])\n"
          ]
        }
      ]
    },
    {
      "cell_type": "code",
      "source": [],
      "metadata": {
        "id": "n9hbDFoumYIx"
      },
      "execution_count": null,
      "outputs": []
    }
  ]
}